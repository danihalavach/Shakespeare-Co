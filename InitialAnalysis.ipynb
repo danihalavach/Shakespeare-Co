{
 "cells": [
  {
   "cell_type": "code",
   "execution_count": 1,
   "id": "d5936f3c",
   "metadata": {},
   "outputs": [
    {
     "name": "stderr",
     "output_type": "stream",
     "text": [
      "[nltk_data] Downloading package punkt to /Users/zararauf/nltk_data...\n",
      "[nltk_data]   Package punkt is already up-to-date!\n",
      "[nltk_data] Downloading package punkt_tab to\n",
      "[nltk_data]     /Users/zararauf/nltk_data...\n",
      "[nltk_data]   Package punkt_tab is already up-to-date!\n"
     ]
    }
   ],
   "source": [
    "import os \n",
    "import pandas as pd\n",
    "from collections import Counter\n",
    "import seaborn as sns\n",
    "import matplotlib.pyplot as plt\n",
    "\n",
    "import nltk\n",
    "nltk.download('punkt')\n",
    "nltk.download('punkt_tab')\n",
    "from nltk.tokenize import sent_tokenize\n",
    "from nltk.tokenize import word_tokenize"
   ]
  },
  {
   "cell_type": "code",
   "execution_count": 2,
   "id": "771f35bf",
   "metadata": {},
   "outputs": [
    {
     "name": "stdout",
     "output_type": "stream",
     "text": [
      "     event_type start_date end_date          member_ids  \\\n",
      "0       Generic       1920      NaN  linossier-raymonde   \n",
      "1  Subscription       1921      NaN      garreta-amelie   \n",
      "2       Generic       1922      NaN        walsh-ernest   \n",
      "3  Subscription       1922      NaN           lincoln-1   \n",
      "4   Crossed out       1923      NaN          morgan-b-h   \n",
      "\n",
      "                                         member_uris  \\\n",
      "0  https://shakespeareandco.princeton.edu/members...   \n",
      "1  https://shakespeareandco.princeton.edu/members...   \n",
      "2  https://shakespeareandco.princeton.edu/members...   \n",
      "3  https://shakespeareandco.princeton.edu/members...   \n",
      "4  https://shakespeareandco.princeton.edu/members...   \n",
      "\n",
      "                 member_names    member_sort_names  subscription_price_paid  \\\n",
      "0          Raymonde Linossier  Linossier, Raymonde                      NaN   \n",
      "1  Amélie (Stoecklin) Garreta      Garreta, Amélie                      NaN   \n",
      "2                Ernest Walsh        Walsh, Ernest                      NaN   \n",
      "3                 Mr. Lincoln         Lincoln, Mr.                      NaN   \n",
      "4                B. H. Morgan        Morgan, B. H.                      NaN   \n",
      "\n",
      "   subscription_deposit subscription_duration  ...  \\\n",
      "0                   NaN                   NaN  ...   \n",
      "1                   NaN                   NaN  ...   \n",
      "2                   NaN                   NaN  ...   \n",
      "3                   7.0                   NaN  ...   \n",
      "4                   NaN                   NaN  ...   \n",
      "\n",
      "                                            item_uri               item_title  \\\n",
      "0  https://shakespeareandco.princeton.edu/books/b...             Pigs Is Pigs   \n",
      "1                                                NaN                      NaN   \n",
      "2  https://shakespeareandco.princeton.edu/books/b...          The Pretty Lady   \n",
      "3                                                NaN                      NaN   \n",
      "4  https://shakespeareandco.princeton.edu/books/c...  The Riddle of the Sands   \n",
      "\n",
      "  item_volume          item_authors  item_year item_notes  \\\n",
      "0         NaN  Butler, Ellis Parker     1906.0        NaN   \n",
      "1         NaN                   NaN        NaN        NaN   \n",
      "2         NaN       Bennett, Arnold     1918.0        NaN   \n",
      "3         NaN                   NaN        NaN        NaN   \n",
      "4         NaN     Childers, Erskine     1903.0        NaN   \n",
      "\n",
      "            source_type                                    source_citation  \\\n",
      "0  Lending Library Card  Sylvia Beach, Raymonde Linossier Lending Libra...   \n",
      "1          Address Book  Sylvia Beach, Address Book 1919 – 1935, box 69...   \n",
      "2  Lending Library Card  Sylvia Beach, Ernest Walsh Lending Library Car...   \n",
      "3          Address Book  Sylvia Beach, Address Book 1919 – 1935, box 69...   \n",
      "4  Lending Library Card  Sylvia Beach, Mr Morgan Lending Library Card, ...   \n",
      "\n",
      "                                     source_manifest  \\\n",
      "0  https://figgy.princeton.edu/concern/scanned_re...   \n",
      "1                                                NaN   \n",
      "2  https://figgy.princeton.edu/concern/scanned_re...   \n",
      "3                                                NaN   \n",
      "4  https://figgy.princeton.edu/concern/scanned_re...   \n",
      "\n",
      "                                        source_image  \n",
      "0  https://iiif.princeton.edu/loris/figgy_prod/00...  \n",
      "1                                                NaN  \n",
      "2  https://iiif.princeton.edu/loris/figgy_prod/af...  \n",
      "3                                                NaN  \n",
      "4  https://iiif-cloud.princeton.edu/iiif/2/1d%2F0...  \n",
      "\n",
      "[5 rows x 29 columns]\n"
     ]
    },
    {
     "name": "stderr",
     "output_type": "stream",
     "text": [
      "/var/folders/05/phdlmc6s2tj_gxrxp3zz83d80000gn/T/ipykernel_27164/1363929383.py:3: DtypeWarning: Columns (21) have mixed types. Specify dtype option on import or set low_memory=False.\n",
      "  events = pd.read_csv(\"SCoData_events_v2.0_2025.csv\")\n"
     ]
    }
   ],
   "source": [
    "# Read the CSV file into a DataFrame\n",
    "\n",
    "events = pd.read_csv(\"SCoData_events_v2.0_2025.csv\")\n",
    "\n",
    "# Display the first 5 rows\n",
    "\n",
    "print(events.head())"
   ]
  },
  {
   "cell_type": "markdown",
   "id": "6a39430b",
   "metadata": {},
   "source": [
    "Question 1: Dani"
   ]
  },
  {
   "cell_type": "code",
   "execution_count": null,
   "id": "4f97c03d",
   "metadata": {},
   "outputs": [],
   "source": [
    "# Dani's code"
   ]
  },
  {
   "cell_type": "markdown",
   "id": "6e2575e6",
   "metadata": {},
   "source": [
    "Question 2: Zara\n",
    "\n",
    "Slicing only the subscription data from the entire dataset."
   ]
  },
  {
   "cell_type": "code",
   "execution_count": 23,
   "id": "d33552e6",
   "metadata": {},
   "outputs": [
    {
     "name": "stdout",
     "output_type": "stream",
     "text": [
      "     event_type start_date end_date       member_ids  \\\n",
      "1  Subscription       1921      NaN   garreta-amelie   \n",
      "3  Subscription       1922      NaN        lincoln-1   \n",
      "5  Subscription       1923      NaN  jarmel-florence   \n",
      "6  Subscription       1923      NaN   foulquier-osee   \n",
      "7  Subscription       1923      NaN  gilbert-bernard   \n",
      "\n",
      "                                         member_uris  \\\n",
      "1  https://shakespeareandco.princeton.edu/members...   \n",
      "3  https://shakespeareandco.princeton.edu/members...   \n",
      "5  https://shakespeareandco.princeton.edu/members...   \n",
      "6  https://shakespeareandco.princeton.edu/members...   \n",
      "7  https://shakespeareandco.princeton.edu/members...   \n",
      "\n",
      "                                        member_names member_sort_names  \\\n",
      "1                         Amélie (Stoecklin) Garreta   Garreta, Amélie   \n",
      "3                                        Mr. Lincoln      Lincoln, Mr.   \n",
      "5  Florence Jarmel / Florence Jarmulowsky / Miss ...  Jarmel, Florence   \n",
      "6                                     Osée Foulquier   Foulquier, Osée   \n",
      "7                                    Bernard Gilbert  Gilbert, Bernard   \n",
      "\n",
      "   subscription_price_paid  subscription_deposit subscription_duration  ...  \\\n",
      "1                      NaN                   NaN                   NaN  ...   \n",
      "3                      NaN                   7.0                   NaN  ...   \n",
      "5                      NaN                   NaN                   NaN  ...   \n",
      "6                      NaN                   NaN                   NaN  ...   \n",
      "7                      NaN                   NaN                   NaN  ...   \n",
      "\n",
      "   item_uri  item_title item_volume item_authors  item_year item_notes  \\\n",
      "1       NaN         NaN         NaN          NaN        NaN        NaN   \n",
      "3       NaN         NaN         NaN          NaN        NaN        NaN   \n",
      "5       NaN         NaN         NaN          NaN        NaN        NaN   \n",
      "6       NaN         NaN         NaN          NaN        NaN        NaN   \n",
      "7       NaN         NaN         NaN          NaN        NaN        NaN   \n",
      "\n",
      "    source_type                                    source_citation  \\\n",
      "1  Address Book  Sylvia Beach, Address Book 1919 – 1935, box 69...   \n",
      "3  Address Book  Sylvia Beach, Address Book 1919 – 1935, box 69...   \n",
      "5  Address Book  Sylvia Beach, Address Book 1919 – 1935, box 69...   \n",
      "6  Address Book  Sylvia Beach, Address Book 1919 – 1935, box 69...   \n",
      "7  Address Book  Sylvia Beach, Address Book 1919 – 1935, box 69...   \n",
      "\n",
      "  source_manifest source_image  \n",
      "1             NaN          NaN  \n",
      "3             NaN          NaN  \n",
      "5             NaN          NaN  \n",
      "6             NaN          NaN  \n",
      "7             NaN          NaN  \n",
      "\n",
      "[5 rows x 29 columns]\n"
     ]
    }
   ],
   "source": [
    "# Zara's code\n",
    "# Count occurrences of each event type\n",
    "event_type_counts = Counter(events['event_type'])\n",
    "# Display the counts of each event type\n",
    "event_type_counts \n",
    "\n",
    "# Slice out only the event types that are 'Subscription'\n",
    "subscription_events = events[events['event_type'] == 'Subscription']\n",
    "# Display the first 5 rows of subscription events\n",
    "print(subscription_events.head())\n",
    "\n",
    "# Create dataframe with the subscription data:\n",
    "subscription_df = pd.DataFrame(subscription_events)"
   ]
  },
  {
   "cell_type": "markdown",
   "id": "5f879a13",
   "metadata": {},
   "source": [
    "Question 3: Grace"
   ]
  },
  {
   "cell_type": "code",
   "execution_count": null,
   "id": "7b0063b4",
   "metadata": {},
   "outputs": [],
   "source": [
    "# Grace's code"
   ]
  }
 ],
 "metadata": {
  "kernelspec": {
   "display_name": "dighum101",
   "language": "python",
   "name": "python3"
  },
  "language_info": {
   "codemirror_mode": {
    "name": "ipython",
    "version": 3
   },
   "file_extension": ".py",
   "mimetype": "text/x-python",
   "name": "python",
   "nbconvert_exporter": "python",
   "pygments_lexer": "ipython3",
   "version": "3.12.10"
  }
 },
 "nbformat": 4,
 "nbformat_minor": 5
}
